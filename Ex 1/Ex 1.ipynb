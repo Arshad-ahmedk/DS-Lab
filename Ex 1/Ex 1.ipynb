{
 "cells": [
  {
   "metadata": {
    "ExecuteTime": {
     "end_time": "2025-07-01T04:28:43.126196Z",
     "start_time": "2025-07-01T04:28:43.103826Z"
    }
   },
   "cell_type": "code",
   "source": [
    "data = {\n",
    "    'CHN': {'COUNTRY': 'China', 'POP': 1_398.72, 'AREA': 9_596.96, 'GDP': 12_234.78, 'CONT': 'Asia'},\n",
    "    'IND': {'COUNTRY': 'India', 'POP': 1_351.16, 'AREA': 3_287.26, 'GDP': 2_575.67, 'CONT': 'Asia', 'IND_DAY': '1947-08-15'},\n",
    "    'USA': {'COUNTRY': 'US', 'POP': 329.74, 'AREA': 9_833.52, 'GDP': 19_485.39, 'CONT': 'N.America', 'IND_DAY': '1776-07-04'},\n",
    "    'IDN': {'COUNTRY': 'Indonesia', 'POP': 268.07, 'AREA': 1_910.93, 'GDP': 1_015.54, 'CONT': 'Asia', 'IND_DAY': '1945-08-17'},\n",
    "    'BRA': {'COUNTRY': 'Brazil', 'POP': 210.32, 'AREA': 8_515.77, 'GDP': 2_055.51, 'CONT': 'S.America', 'IND_DAY': '1822-09-07'},\n",
    "    'PAK': {'COUNTRY': 'Pakistan', 'POP': 205.71, 'AREA': 881.91, 'GDP': 302.14, 'CONT': 'Asia', 'IND_DAY': '1947-08-14'},\n",
    "    'NGA': {'COUNTRY': 'Nigeria', 'POP': 200.96, 'AREA': 923.77, 'GDP': 375.77, 'CONT': 'Africa', 'IND_DAY': '1960-10-01'},\n",
    "    'BGD': {'COUNTRY': 'Bangladesh', 'POP': 167.09, 'AREA': 147.57, 'GDP': 245.63, 'CONT': 'Asia', 'IND_DAY': '1971-03-26'},\n",
    "    'RUS': {'COUNTRY': 'Russia', 'POP': 146.79, 'AREA': 17_098.25, 'GDP': 1_530.75, 'IND_DAY': '1992-06-12'},\n",
    "    'MEX': {'COUNTRY': 'Mexico', 'POP': 126.58, 'AREA': 1_964.38, 'GDP': 1_158.23, 'CONT': 'N.America', 'IND_DAY': '1810-09-16'},\n",
    "    'JPN': {'COUNTRY': 'Japan', 'POP': 126.22, 'AREA': 377.97, 'GDP': 4_872.42, 'CONT': 'Asia'}\n",
    "}\n",
    "\n",
    "columns = ('COUNTRY', 'POP', 'AREA', 'GDP', 'CONT', 'IND_DAY')\n"
   ],
   "id": "4e306e2fceab07a5",
   "outputs": [],
   "execution_count": 2
  },
  {
   "metadata": {
    "ExecuteTime": {
     "end_time": "2025-07-01T04:28:48.543044Z",
     "start_time": "2025-07-01T04:28:48.533492Z"
    }
   },
   "cell_type": "code",
   "source": [
    "import pandas as pd\n",
    "\n",
    "df = pd.DataFrame(data).T  # Transpose so that countries become rows"
   ],
   "id": "cbfaf116a09fb336",
   "outputs": [],
   "execution_count": 3
  },
  {
   "metadata": {
    "ExecuteTime": {
     "end_time": "2025-07-01T04:29:25.359329Z",
     "start_time": "2025-07-01T04:29:25.328351Z"
    }
   },
   "cell_type": "code",
   "source": "df = pd.DataFrame(data=data, index=columns).T",
   "id": "1d5fdea8c285b006",
   "outputs": [],
   "execution_count": 4
  },
  {
   "metadata": {
    "ExecuteTime": {
     "end_time": "2025-07-01T04:29:37.065721Z",
     "start_time": "2025-07-01T04:29:37.055210Z"
    }
   },
   "cell_type": "code",
   "source": [
    "df = pd.DataFrame.from_dict(data, orient='index')\n",
    "df = df.reindex(columns=columns)"
   ],
   "id": "57175510f34c38e9",
   "outputs": [],
   "execution_count": 5
  },
  {
   "metadata": {
    "ExecuteTime": {
     "end_time": "2025-07-01T04:29:45.091065Z",
     "start_time": "2025-07-01T04:29:45.056768Z"
    }
   },
   "cell_type": "code",
   "source": "df.to_csv('data.csv')",
   "id": "fea92e6d0f859198",
   "outputs": [],
   "execution_count": 6
  },
  {
   "metadata": {
    "ExecuteTime": {
     "end_time": "2025-07-01T04:29:54.478184Z",
     "start_time": "2025-07-01T04:29:54.446761Z"
    }
   },
   "cell_type": "code",
   "source": "df = pd.read_csv('data.csv', index_col=0)",
   "id": "fcf1b9fee22bb2d6",
   "outputs": [],
   "execution_count": 7
  },
  {
   "metadata": {
    "ExecuteTime": {
     "end_time": "2025-07-01T04:30:06.198372Z",
     "start_time": "2025-07-01T04:30:03.590827Z"
    }
   },
   "cell_type": "code",
   "source": "df.to_excel('data.xlsx')",
   "id": "2a06610924eb2b40",
   "outputs": [],
   "execution_count": 8
  },
  {
   "metadata": {
    "ExecuteTime": {
     "end_time": "2025-07-01T04:30:17.343454Z",
     "start_time": "2025-07-01T04:30:17.316726Z"
    }
   },
   "cell_type": "code",
   "source": "df = pd.read_excel('data.xlsx', index_col=0)",
   "id": "84bd1d7d56f42711",
   "outputs": [],
   "execution_count": 9
  },
  {
   "metadata": {},
   "cell_type": "code",
   "outputs": [],
   "execution_count": null,
   "source": "",
   "id": "b07c6c3ea24d3a16"
  }
 ],
 "metadata": {
  "kernelspec": {
   "display_name": "Python 3",
   "language": "python",
   "name": "python3"
  },
  "language_info": {
   "codemirror_mode": {
    "name": "ipython",
    "version": 2
   },
   "file_extension": ".py",
   "mimetype": "text/x-python",
   "name": "python",
   "nbconvert_exporter": "python",
   "pygments_lexer": "ipython2",
   "version": "2.7.6"
  }
 },
 "nbformat": 4,
 "nbformat_minor": 5
}
