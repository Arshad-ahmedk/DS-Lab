{
 "cells": [
  {
   "cell_type": "code",
   "id": "initial_id",
   "metadata": {
    "collapsed": true,
    "ExecuteTime": {
     "end_time": "2025-07-08T04:10:20.202702Z",
     "start_time": "2025-07-08T04:10:10.443553Z"
    }
   },
   "source": [
    "import pandas as pd\n",
    "import matplotlib.pyplot as plt\n",
    "from sklearn.model_selection import train_test_split\n",
    "from sklearn.linear_model import LinearRegression"
   ],
   "outputs": [],
   "execution_count": 3
  },
  {
   "metadata": {
    "ExecuteTime": {
     "end_time": "2025-07-08T04:10:22.943490Z",
     "start_time": "2025-07-08T04:10:22.912989Z"
    }
   },
   "cell_type": "code",
   "source": [
    "data= pd.read_csv('Boston.csv')\n",
    "data.head()"
   ],
   "id": "f39b51ae4a12f3ac",
   "outputs": [
    {
     "data": {
      "text/plain": [
       "   Unnamed: 0     crim    zn  indus  chas    nox     rm   age     dis  rad  \\\n",
       "0           1  0.00632  18.0   2.31     0  0.538  6.575  65.2  4.0900    1   \n",
       "1           2  0.02731   0.0   7.07     0  0.469  6.421  78.9  4.9671    2   \n",
       "2           3  0.02729   0.0   7.07     0  0.469  7.185  61.1  4.9671    2   \n",
       "3           4  0.03237   0.0   2.18     0  0.458  6.998  45.8  6.0622    3   \n",
       "4           5  0.06905   0.0   2.18     0  0.458  7.147  54.2  6.0622    3   \n",
       "\n",
       "   tax  ptratio   black  lstat  medv  \n",
       "0  296     15.3  396.90   4.98  24.0  \n",
       "1  242     17.8  396.90   9.14  21.6  \n",
       "2  242     17.8  392.83   4.03  34.7  \n",
       "3  222     18.7  394.63   2.94  33.4  \n",
       "4  222     18.7  396.90   5.33  36.2  "
      ],
      "text/html": [
       "<div>\n",
       "<style scoped>\n",
       "    .dataframe tbody tr th:only-of-type {\n",
       "        vertical-align: middle;\n",
       "    }\n",
       "\n",
       "    .dataframe tbody tr th {\n",
       "        vertical-align: top;\n",
       "    }\n",
       "\n",
       "    .dataframe thead th {\n",
       "        text-align: right;\n",
       "    }\n",
       "</style>\n",
       "<table border=\"1\" class=\"dataframe\">\n",
       "  <thead>\n",
       "    <tr style=\"text-align: right;\">\n",
       "      <th></th>\n",
       "      <th>Unnamed: 0</th>\n",
       "      <th>crim</th>\n",
       "      <th>zn</th>\n",
       "      <th>indus</th>\n",
       "      <th>chas</th>\n",
       "      <th>nox</th>\n",
       "      <th>rm</th>\n",
       "      <th>age</th>\n",
       "      <th>dis</th>\n",
       "      <th>rad</th>\n",
       "      <th>tax</th>\n",
       "      <th>ptratio</th>\n",
       "      <th>black</th>\n",
       "      <th>lstat</th>\n",
       "      <th>medv</th>\n",
       "    </tr>\n",
       "  </thead>\n",
       "  <tbody>\n",
       "    <tr>\n",
       "      <th>0</th>\n",
       "      <td>1</td>\n",
       "      <td>0.00632</td>\n",
       "      <td>18.0</td>\n",
       "      <td>2.31</td>\n",
       "      <td>0</td>\n",
       "      <td>0.538</td>\n",
       "      <td>6.575</td>\n",
       "      <td>65.2</td>\n",
       "      <td>4.0900</td>\n",
       "      <td>1</td>\n",
       "      <td>296</td>\n",
       "      <td>15.3</td>\n",
       "      <td>396.90</td>\n",
       "      <td>4.98</td>\n",
       "      <td>24.0</td>\n",
       "    </tr>\n",
       "    <tr>\n",
       "      <th>1</th>\n",
       "      <td>2</td>\n",
       "      <td>0.02731</td>\n",
       "      <td>0.0</td>\n",
       "      <td>7.07</td>\n",
       "      <td>0</td>\n",
       "      <td>0.469</td>\n",
       "      <td>6.421</td>\n",
       "      <td>78.9</td>\n",
       "      <td>4.9671</td>\n",
       "      <td>2</td>\n",
       "      <td>242</td>\n",
       "      <td>17.8</td>\n",
       "      <td>396.90</td>\n",
       "      <td>9.14</td>\n",
       "      <td>21.6</td>\n",
       "    </tr>\n",
       "    <tr>\n",
       "      <th>2</th>\n",
       "      <td>3</td>\n",
       "      <td>0.02729</td>\n",
       "      <td>0.0</td>\n",
       "      <td>7.07</td>\n",
       "      <td>0</td>\n",
       "      <td>0.469</td>\n",
       "      <td>7.185</td>\n",
       "      <td>61.1</td>\n",
       "      <td>4.9671</td>\n",
       "      <td>2</td>\n",
       "      <td>242</td>\n",
       "      <td>17.8</td>\n",
       "      <td>392.83</td>\n",
       "      <td>4.03</td>\n",
       "      <td>34.7</td>\n",
       "    </tr>\n",
       "    <tr>\n",
       "      <th>3</th>\n",
       "      <td>4</td>\n",
       "      <td>0.03237</td>\n",
       "      <td>0.0</td>\n",
       "      <td>2.18</td>\n",
       "      <td>0</td>\n",
       "      <td>0.458</td>\n",
       "      <td>6.998</td>\n",
       "      <td>45.8</td>\n",
       "      <td>6.0622</td>\n",
       "      <td>3</td>\n",
       "      <td>222</td>\n",
       "      <td>18.7</td>\n",
       "      <td>394.63</td>\n",
       "      <td>2.94</td>\n",
       "      <td>33.4</td>\n",
       "    </tr>\n",
       "    <tr>\n",
       "      <th>4</th>\n",
       "      <td>5</td>\n",
       "      <td>0.06905</td>\n",
       "      <td>0.0</td>\n",
       "      <td>2.18</td>\n",
       "      <td>0</td>\n",
       "      <td>0.458</td>\n",
       "      <td>7.147</td>\n",
       "      <td>54.2</td>\n",
       "      <td>6.0622</td>\n",
       "      <td>3</td>\n",
       "      <td>222</td>\n",
       "      <td>18.7</td>\n",
       "      <td>396.90</td>\n",
       "      <td>5.33</td>\n",
       "      <td>36.2</td>\n",
       "    </tr>\n",
       "  </tbody>\n",
       "</table>\n",
       "</div>"
      ]
     },
     "execution_count": 4,
     "metadata": {},
     "output_type": "execute_result"
    }
   ],
   "execution_count": 4
  },
  {
   "metadata": {
    "ExecuteTime": {
     "end_time": "2025-07-08T04:12:54.071910Z",
     "start_time": "2025-07-08T04:12:54.048937Z"
    }
   },
   "cell_type": "code",
   "source": [
    "data_=data.loc[:,['lstat','medv']]\n",
    "data_.head(5)"
   ],
   "id": "e626b26e03c46892",
   "outputs": [
    {
     "data": {
      "text/plain": [
       "   lstat  medv\n",
       "0   4.98  24.0\n",
       "1   9.14  21.6\n",
       "2   4.03  34.7\n",
       "3   2.94  33.4\n",
       "4   5.33  36.2"
      ],
      "text/html": [
       "<div>\n",
       "<style scoped>\n",
       "    .dataframe tbody tr th:only-of-type {\n",
       "        vertical-align: middle;\n",
       "    }\n",
       "\n",
       "    .dataframe tbody tr th {\n",
       "        vertical-align: top;\n",
       "    }\n",
       "\n",
       "    .dataframe thead th {\n",
       "        text-align: right;\n",
       "    }\n",
       "</style>\n",
       "<table border=\"1\" class=\"dataframe\">\n",
       "  <thead>\n",
       "    <tr style=\"text-align: right;\">\n",
       "      <th></th>\n",
       "      <th>lstat</th>\n",
       "      <th>medv</th>\n",
       "    </tr>\n",
       "  </thead>\n",
       "  <tbody>\n",
       "    <tr>\n",
       "      <th>0</th>\n",
       "      <td>4.98</td>\n",
       "      <td>24.0</td>\n",
       "    </tr>\n",
       "    <tr>\n",
       "      <th>1</th>\n",
       "      <td>9.14</td>\n",
       "      <td>21.6</td>\n",
       "    </tr>\n",
       "    <tr>\n",
       "      <th>2</th>\n",
       "      <td>4.03</td>\n",
       "      <td>34.7</td>\n",
       "    </tr>\n",
       "    <tr>\n",
       "      <th>3</th>\n",
       "      <td>2.94</td>\n",
       "      <td>33.4</td>\n",
       "    </tr>\n",
       "    <tr>\n",
       "      <th>4</th>\n",
       "      <td>5.33</td>\n",
       "      <td>36.2</td>\n",
       "    </tr>\n",
       "  </tbody>\n",
       "</table>\n",
       "</div>"
      ]
     },
     "execution_count": 6,
     "metadata": {},
     "output_type": "execute_result"
    }
   ],
   "execution_count": 6
  },
  {
   "metadata": {
    "ExecuteTime": {
     "end_time": "2025-07-08T04:32:37.685206Z",
     "start_time": "2025-07-08T04:32:37.545087Z"
    }
   },
   "cell_type": "code",
   "source": [
    "data.plot(x='lstat', y='medv', style='o')\n",
    "plt.xlabel('lstat')\n",
    "plt.ylabel('medv')\n",
    "plt.title('lstat vs medv')\n",
    "plt.show()"
   ],
   "id": "c894e12d43991d22",
   "outputs": [
    {
     "data": {
      "text/plain": [
       "<Figure size 640x480 with 1 Axes>"
      ],
      "image/png": "[encoded data removed]"
     },
     "metadata": {},
     "output_type": "display_data"
    }
   ],
   "execution_count": 22
  },
  {
   "metadata": {
    "ExecuteTime": {
     "end_time": "2025-07-08T04:14:15.060035Z",
     "start_time": "2025-07-08T04:14:15.046460Z"
    }
   },
   "cell_type": "code",
   "source": [
    "x = pd.DataFrame(data['lstat'])\n",
    "y = pd.DataFrame(data['medv'])"
   ],
   "id": "ab58e4b96d90116a",
   "outputs": [],
   "execution_count": 8
  },
  {
   "metadata": {
    "ExecuteTime": {
     "end_time": "2025-07-08T04:14:33.041773Z",
     "start_time": "2025-07-08T04:14:33.030188Z"
    }
   },
   "cell_type": "code",
   "source": "x_train, x_test, y_train, y_test = train_test_split(x, y, test_size=0.2, random_state=1)\n",
   "id": "49835bc1e123b075",
   "outputs": [],
   "execution_count": 9
  },
  {
   "metadata": {
    "ExecuteTime": {
     "end_time": "2025-07-08T04:14:42.027796Z",
     "start_time": "2025-07-08T04:14:42.002561Z"
    }
   },
   "cell_type": "code",
   "source": [
    "print(\"Training X shape:\", x_train.shape)\n",
    "print(\"Test X shape:\", x_test.shape)\n",
    "print(\"Training y shape:\", y_train.shape)\n",
    "print(\"Test y shape:\", y_test.shape)"
   ],
   "id": "e7af559a45182dd2",
   "outputs": [
    {
     "name": "stdout",
     "output_type": "stream",
     "text": [
      "Training X shape: (404, 1)\n",
      "Test X shape: (102, 1)\n",
      "Training y shape: (404, 1)\n",
      "Test y shape: (102, 1)\n"
     ]
    }
   ],
   "execution_count": 10
  },
  {
   "metadata": {
    "ExecuteTime": {
     "end_time": "2025-07-08T04:15:02.287536Z",
     "start_time": "2025-07-08T04:15:02.261753Z"
    }
   },
   "cell_type": "code",
   "source": [
    "regressor = LinearRegression()\n",
    "regressor.fit(x_train, y_train)\n",
    "y_pred = regressor.predict(x_test)"
   ],
   "id": "b6e91440fac4cccf",
   "outputs": [],
   "execution_count": 11
  },
  {
   "metadata": {
    "ExecuteTime": {
     "end_time": "2025-07-08T04:15:21.299829Z",
     "start_time": "2025-07-08T04:15:21.284095Z"
    }
   },
   "cell_type": "code",
   "source": [
    "print(\"Predicted MEDV values:\")\n",
    "print(y_pred)"
   ],
   "id": "46fb62a6faf03606",
   "outputs": [
    {
     "name": "stdout",
     "output_type": "stream",
     "text": [
      "Predicted MEDV values:\n",
      "[[27.37411725]\n",
      " [27.69766325]\n",
      " [16.95593597]\n",
      " [26.84719947]\n",
      " [24.91516763]\n",
      " [24.05545968]\n",
      " [29.99021779]\n",
      " [22.28057875]\n",
      " [17.76942306]\n",
      " [26.1908633 ]\n",
      " [27.17998965]\n",
      " [30.07341533]\n",
      " [21.75366098]\n",
      " [24.86894677]\n",
      " [23.50080939]\n",
      " [23.12179836]\n",
      " [12.85152382]\n",
      " [30.05492699]\n",
      " [27.46655897]\n",
      " [ 7.03693995]\n",
      " [23.70418116]\n",
      " [18.94343284]\n",
      " [25.75638724]\n",
      " [28.67754543]\n",
      " [30.0179503 ]\n",
      " [11.7884441 ]\n",
      " [15.53233356]\n",
      " [24.6008658 ]\n",
      " [27.62370988]\n",
      " [15.06088081]\n",
      " [29.25992824]\n",
      " [17.2702378 ]\n",
      " [31.672657  ]\n",
      " [19.13756044]\n",
      " [25.9320265 ]\n",
      " [21.77214932]\n",
      " [17.88959729]\n",
      " [29.40783498]\n",
      " [12.75908211]\n",
      " [20.48720948]\n",
      " [27.54975651]\n",
      " [28.09516263]\n",
      " [27.30940805]\n",
      " [12.05652507]\n",
      " [17.66773717]\n",
      " [13.3137324 ]\n",
      " [32.56009746]\n",
      " [19.22075799]\n",
      " [25.26644615]\n",
      " [24.50842409]\n",
      " [23.55627442]\n",
      " [23.96301797]\n",
      " [29.51876504]\n",
      " [24.07394802]\n",
      " [ 6.89827738]\n",
      " [28.11365097]\n",
      " [ 6.6301964 ]\n",
      " [28.80696383]\n",
      " [20.7737788 ]\n",
      " [30.68353065]\n",
      " [20.4502328 ]\n",
      " [28.2985344 ]\n",
      " [15.92058876]\n",
      " [18.02825986]\n",
      " [ 7.01845161]\n",
      " [29.67591595]\n",
      " [32.05166803]\n",
      " [26.33877004]\n",
      " [24.72104003]\n",
      " [23.57476276]\n",
      " [28.64981292]\n",
      " [ 8.19246139]\n",
      " [21.39313829]\n",
      " [23.26046093]\n",
      " [21.30994075]\n",
      " [24.70255169]\n",
      " [31.59870363]\n",
      " [26.72702525]\n",
      " [27.50353565]\n",
      " [31.04405334]\n",
      " [20.10819845]\n",
      " [24.81348174]\n",
      " [29.35236995]\n",
      " [12.82379131]\n",
      " [28.80696383]\n",
      " [29.74062515]\n",
      " [16.48448322]\n",
      " [29.63893927]\n",
      " [21.30069657]\n",
      " [18.65686353]\n",
      " [29.12126566]\n",
      " [29.60196258]\n",
      " [17.63076049]\n",
      " [22.84447322]\n",
      " [20.91244137]\n",
      " [22.06796281]\n",
      " [25.39586455]\n",
      " [26.79173445]\n",
      " [30.50789139]\n",
      " [22.31755544]\n",
      " [19.83087331]\n",
      " [16.90971511]]\n"
     ]
    }
   ],
   "execution_count": 12
  },
  {
   "metadata": {
    "ExecuteTime": {
     "end_time": "2025-07-08T04:15:24.301826Z",
     "start_time": "2025-07-08T04:15:24.288233Z"
    }
   },
   "cell_type": "code",
   "source": [
    "print(\"Actual MEDV values:\")\n",
    "print(y_test)"
   ],
   "id": "3506939d88105910",
   "outputs": [
    {
     "name": "stdout",
     "output_type": "stream",
     "text": [
      "Actual MEDV values:\n",
      "     medv\n",
      "307  28.2\n",
      "343  23.9\n",
      "47   16.6\n",
      "67   22.0\n",
      "362  20.8\n",
      "..    ...\n",
      "92   22.9\n",
      "224  44.8\n",
      "110  21.7\n",
      "426  10.2\n",
      "443  15.4\n",
      "\n",
      "[102 rows x 1 columns]\n"
     ]
    }
   ],
   "execution_count": 13
  },
  {
   "metadata": {
    "ExecuteTime": {
     "end_time": "2025-07-08T04:40:19.722379Z",
     "start_time": "2025-07-08T04:40:19.696523Z"
    }
   },
   "cell_type": "code",
   "source": [
    "x = pd.DataFrame(data.iloc[:, :-1])  # All columns except the last one (features)\n",
    "y = pd.DataFrame(data.iloc[:, -1])"
   ],
   "id": "b1486caa4965c158",
   "outputs": [],
   "execution_count": 23
  },
  {
   "metadata": {
    "ExecuteTime": {
     "end_time": "2025-07-08T04:40:32.859195Z",
     "start_time": "2025-07-08T04:40:32.847475Z"
    }
   },
   "cell_type": "code",
   "source": "x_train, x_test, y_train, y_test = train_test_split(x, y, test_size=0.2, random_state=5)",
   "id": "14552ea70733a93",
   "outputs": [],
   "execution_count": 24
  },
  {
   "metadata": {
    "ExecuteTime": {
     "end_time": "2025-07-08T04:40:40.807609Z",
     "start_time": "2025-07-08T04:40:40.793814Z"
    }
   },
   "cell_type": "code",
   "source": [
    "print(x_train.shape)\n",
    "print(x_test.shape)\n",
    "print(y_train.shape)\n",
    "print(y_test.shape)"
   ],
   "id": "48525b2cf444192a",
   "outputs": [
    {
     "name": "stdout",
     "output_type": "stream",
     "text": [
      "(404, 14)\n",
      "(102, 14)\n",
      "(404, 1)\n",
      "(102, 1)\n"
     ]
    }
   ],
   "execution_count": 25
  },
  {
   "metadata": {
    "ExecuteTime": {
     "end_time": "2025-07-08T04:40:56.553125Z",
     "start_time": "2025-07-08T04:40:56.541105Z"
    }
   },
   "cell_type": "code",
   "source": [
    "regressor = LinearRegression()\n",
    "regressor.fit(x_train, y_train)\n",
    "y_pred = regressor.predict(x_test)"
   ],
   "id": "a20fe5fee4f26afe",
   "outputs": [],
   "execution_count": 27
  },
  {
   "metadata": {
    "ExecuteTime": {
     "end_time": "2025-07-08T04:41:04.961497Z",
     "start_time": "2025-07-08T04:41:04.945833Z"
    }
   },
   "cell_type": "code",
   "source": [
    "print(\"Predicted values:\")\n",
    "print(y_pred)"
   ],
   "id": "402f646fc8a9b23a",
   "outputs": [
    {
     "name": "stdout",
     "output_type": "stream",
     "text": [
      "Predicted values:\n",
      "[[ 3.74964488e+01]\n",
      " [ 3.20223764e+01]\n",
      " [ 2.72863782e+01]\n",
      " [ 5.72832858e+00]\n",
      " [ 3.47900931e+01]\n",
      " [ 5.80129318e+00]\n",
      " [ 2.62551920e+01]\n",
      " [ 3.17379150e+01]\n",
      " [ 2.67324471e+01]\n",
      " [ 2.25993691e+01]\n",
      " [ 3.21299152e+01]\n",
      " [ 2.09008155e+01]\n",
      " [ 2.31803491e+01]\n",
      " [ 3.31278042e+01]\n",
      " [ 2.81353324e+01]\n",
      " [ 1.35949007e+01]\n",
      " [ 3.06247174e-02]\n",
      " [ 1.88605213e+01]\n",
      " [ 1.26342799e+01]\n",
      " [ 1.40793513e+01]\n",
      " [ 1.06988928e+00]\n",
      " [ 1.99493105e+01]\n",
      " [ 3.81777840e+01]\n",
      " [ 2.36779235e+01]\n",
      " [ 3.10787403e+01]\n",
      " [ 1.10180377e+01]\n",
      " [ 2.45344047e+01]\n",
      " [ 2.36475504e+01]\n",
      " [ 2.19022248e+01]\n",
      " [ 1.99715761e+01]\n",
      " [ 1.50804660e+01]\n",
      " [ 6.00057456e+00]\n",
      " [ 1.84414716e+01]\n",
      " [ 2.22598597e+01]\n",
      " [ 2.87427173e+01]\n",
      " [ 1.92521906e+01]\n",
      " [ 3.00458393e+01]\n",
      " [ 8.65266793e+00]\n",
      " [ 4.06607613e+01]\n",
      " [ 3.53287035e+01]\n",
      " [ 2.08186132e+01]\n",
      " [ 2.68330430e+00]\n",
      " [ 2.98981813e+01]\n",
      " [ 1.20030834e+01]\n",
      " [ 2.65738251e+01]\n",
      " [ 3.05069996e+01]\n",
      " [-6.41023839e+00]\n",
      " [ 1.98093878e+01]\n",
      " [ 2.11643806e+01]\n",
      " [ 1.26216200e+01]\n",
      " [ 2.07981336e+01]\n",
      " [ 1.86450158e+01]\n",
      " [ 2.41623203e+01]\n",
      " [ 1.30164667e+01]\n",
      " [ 1.73348276e+01]\n",
      " [ 2.55449852e+01]\n",
      " [ 3.51266849e+01]\n",
      " [ 1.51181378e+01]\n",
      " [ 2.77883996e+01]\n",
      " [ 2.14318559e+01]\n",
      " [ 1.93354126e+01]\n",
      " [ 2.58594030e+01]\n",
      " [ 1.49496107e+01]\n",
      " [ 3.33378954e+01]\n",
      " [ 2.34872085e+01]\n",
      " [ 1.31209512e+01]\n",
      " [ 1.96200543e+01]\n",
      " [ 2.51198284e+01]\n",
      " [ 2.19444968e+01]\n",
      " [ 2.18479156e+01]\n",
      " [ 2.03502645e+01]\n",
      " [ 2.68044641e+01]\n",
      " [ 1.70567073e+01]\n",
      " [ 1.89179630e+01]\n",
      " [ 2.06504086e+01]\n",
      " [ 2.50598704e+01]\n",
      " [ 2.20569703e+01]\n",
      " [ 1.47246872e+01]\n",
      " [ 3.41229455e+01]\n",
      " [ 1.85371667e+01]\n",
      " [ 2.31262680e+01]\n",
      " [ 4.15702511e+01]\n",
      " [ 2.31044477e+01]\n",
      " [ 1.55526010e+01]\n",
      " [ 2.62994028e+01]\n",
      " [ 1.70360506e+01]\n",
      " [ 1.74615993e+01]\n",
      " [ 1.00760187e+01]\n",
      " [ 1.83670401e+01]\n",
      " [ 1.65038423e+01]\n",
      " [ 3.56620313e+01]\n",
      " [ 1.79401083e+01]\n",
      " [ 2.19505346e+01]\n",
      " [ 1.91803230e+01]\n",
      " [ 2.38105215e+01]\n",
      " [ 2.82902067e+01]\n",
      " [ 1.25896332e+01]\n",
      " [ 2.12577697e+01]\n",
      " [ 2.22469043e+01]\n",
      " [ 1.33629846e+01]\n",
      " [ 2.37735976e+01]\n",
      " [ 2.09767242e+01]]\n"
     ]
    }
   ],
   "execution_count": 28
  },
  {
   "metadata": {
    "ExecuteTime": {
     "end_time": "2025-07-08T04:41:16.299050Z",
     "start_time": "2025-07-08T04:41:16.283082Z"
    }
   },
   "cell_type": "code",
   "source": [
    "print(\"Actual values:\")\n",
    "print(y_test)"
   ],
   "id": "2e3e114c5e3dd06c",
   "outputs": [
    {
     "name": "stdout",
     "output_type": "stream",
     "text": [
      "Actual values:\n",
      "     medv\n",
      "226  37.6\n",
      "292  27.9\n",
      "90   22.6\n",
      "373  13.8\n",
      "273  35.2\n",
      "..    ...\n",
      "349  26.6\n",
      "212  22.4\n",
      "156  13.1\n",
      "480  23.0\n",
      "248  24.5\n",
      "\n",
      "[102 rows x 1 columns]\n"
     ]
    }
   ],
   "execution_count": 29
  }
 ],
 "metadata": {
  "kernelspec": {
   "display_name": "Python 3",
   "language": "python",
   "name": "python3"
  },
  "language_info": {
   "codemirror_mode": {
    "name": "ipython",
    "version": 2
   },
   "file_extension": ".py",
   "mimetype": "text/x-python",
   "name": "python",
   "nbconvert_exporter": "python",
   "pygments_lexer": "ipython2",
   "version": "2.7.6"
  }
 },
 "nbformat": 4,
 "nbformat_minor": 5
}
